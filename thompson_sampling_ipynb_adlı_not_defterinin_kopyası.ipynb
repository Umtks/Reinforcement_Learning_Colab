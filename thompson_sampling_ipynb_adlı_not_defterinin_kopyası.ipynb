{
  "nbformat": 4,
  "nbformat_minor": 0,
  "metadata": {
    "colab": {
      "name": "thompson_sampling.ipynb adlı not defterinin kopyası",
      "provenance": [],
      "collapsed_sections": [],
      "include_colab_link": true
    },
    "kernelspec": {
      "name": "python3",
      "display_name": "Python 3"
    }
  },
  "cells": [
    {
      "cell_type": "markdown",
      "metadata": {
        "id": "view-in-github",
        "colab_type": "text"
      },
      "source": [
        "<a href=\"https://colab.research.google.com/github/Umtks/Reinforcement_Learning_Colab/blob/main/thompson_sampling_ipynb_adl%C4%B1_not_defterinin_kopyas%C4%B1.ipynb\" target=\"_parent\"><img src=\"https://colab.research.google.com/assets/colab-badge.svg\" alt=\"Open In Colab\"/></a>"
      ]
    },
    {
      "cell_type": "markdown",
      "metadata": {
        "id": "vPKTIRAtx232"
      },
      "source": [
        "# Thompson Sampling"
      ]
    },
    {
      "cell_type": "markdown",
      "metadata": {
        "id": "PqPv9zpAx-EE"
      },
      "source": [
        "## Importing the libraries"
      ]
    },
    {
      "cell_type": "code",
      "metadata": {
        "id": "lozuE-Fhx_QB"
      },
      "source": [
        "import numpy as np\n",
        "import matplotlib.pyplot as plt\n",
        "import pandas as pd"
      ],
      "execution_count": null,
      "outputs": []
    },
    {
      "cell_type": "markdown",
      "metadata": {
        "id": "iqpVk5HhyGmO"
      },
      "source": [
        "## Importing the dataset"
      ]
    },
    {
      "cell_type": "code",
      "metadata": {
        "id": "kY4zzW4hyNfA"
      },
      "source": [
        "dataset = pd.read_csv('Ads_CTR_Optimisation.csv')"
      ],
      "execution_count": null,
      "outputs": []
    },
    {
      "cell_type": "markdown",
      "metadata": {
        "id": "WqoXeWOYyQhB"
      },
      "source": [
        "## Implementing Thompson Sampling"
      ]
    },
    {
      "cell_type": "code",
      "metadata": {
        "id": "VqqLtYcNel_D"
      },
      "source": [
        "import random\n",
        "N = 10000\n",
        "d = 10\n",
        "ads_selected = []\n",
        "number_of_rewards_1 = [0] * d\n",
        "number_of_rewards_0 = [0] * d\n",
        "total_reward = 0\n",
        "for n in range(0, N):\n",
        "  ad = 0\n",
        "  max_random = 0 \n",
        "  for i in range(0, d):\n",
        "    random_beta = random.betavariate(number_of_rewards_1[i] + 1, number_of_rewards_0[i] + 1 )\n",
        "    if (random_beta > max_random):\n",
        "      max_random = random_beta\n",
        "      ad = i\n",
        "  ads_selected.append(ad)\n",
        "  reward = dataset.values[n, ad]      \n",
        "  if reward == 1:\n",
        "    number_of_rewards_1[ad] = number_of_rewards_1[ad] + 1\n",
        "  if reward == 0:\n",
        "    number_of_rewards_0[ad] = number_of_rewards_0[ad] + 1\n",
        "  total_reward = total_reward + reward   \n",
        "  \n",
        "\n"
      ],
      "execution_count": null,
      "outputs": []
    },
    {
      "cell_type": "markdown",
      "metadata": {
        "id": "tweWsgTHyXhv"
      },
      "source": [
        "## Visualising the results - Histogram"
      ]
    },
    {
      "cell_type": "code",
      "metadata": {
        "colab": {
          "base_uri": "https://localhost:8080/",
          "height": 295
        },
        "id": "YED2tpfRfFmW",
        "outputId": "972e67bc-f3a2-433e-e243-251d84bd7717"
      },
      "source": [
        "plt.hist(ads_selected)\n",
        "plt.title('Histogram of ads selections')\n",
        "plt.xlabel('Ads')\n",
        "plt.ylabel('Number of times each ad was selected')\n",
        "plt.show()"
      ],
      "execution_count": null,
      "outputs": [
        {
          "output_type": "display_data",
          "data": {
            "image/png": "[encoded data removed]",
            "text/plain": [
              "<Figure size 432x288 with 1 Axes>"
            ]
          },
          "metadata": {
            "tags": [],
            "needs_background": "light"
          }
        }
      ]
    }
  ]
}